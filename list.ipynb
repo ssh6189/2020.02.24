{
 "cells": [
  {
   "cell_type": "markdown",
   "metadata": {},
   "source": [
    "<H1>1. N개의 정수가 주어진다. 이때, 최솟값과 최댓값을 구하는 프로그램을 작성하시오.</H1>\n",
    "<H1>첫째 줄에 정수의 개수 N (1 ≤ N ≤ 1,000,000)이 주어진다. 둘째 줄에는 N개의 정수를 공백으로 구분해서 주어진다.</H1>\n",
    "<H1>모든 정수는 -1,000,000보다 크거나 같고, 1,000,000보다 작거나 같은 정수이다.</H1>"
   ]
  },
  {
   "cell_type": "code",
   "execution_count": 7,
   "metadata": {
    "ExecuteTime": {
     "end_time": "2020-02-18T03:38:17.522365Z",
     "start_time": "2020-02-18T03:38:14.585877Z"
    }
   },
   "outputs": [
    {
     "name": "stdout",
     "output_type": "stream",
     "text": [
      "3\n",
      "1 2 3 4 5\n",
      "1 5\n"
     ]
    }
   ],
   "source": [
    "N = int(input())\n",
    "num = list(map(int, input().split()))\n",
    "print(min(num), max(num))"
   ]
  },
  {
   "cell_type": "markdown",
   "metadata": {
    "ExecuteTime": {
     "end_time": "2020-02-18T03:41:38.766428Z",
     "start_time": "2020-02-18T03:41:38.761503Z"
    }
   },
   "source": [
    "<H1>2. 9개의 서로 다른 자연수가 주어질 때, 이들 중 최댓값을 찾고 그 최댓값이 몇 번째 수인지를 구하는 프로그램을 작성하시오.</H1>\n",
    "\n",
    "<H1>예를 들어, 서로 다른 9개의 자연수</H1>\n",
    "\n",
    "<H1>3, 29, 38, 12, 57, 74, 40, 85, 61 이 주어지면, 이들 중 최댓값은 85이고, 이 값은 8번째 수이다.</H1>\n",
    "\n",
    "<H1>첫 째 줄부터 아홉 번째 줄까지 한 줄에 하나의 자연수가 주어진다. 주어지는 자연수는 100 보다 작다.</H1>"
   ]
  },
  {
   "cell_type": "code",
   "execution_count": 3,
   "metadata": {
    "ExecuteTime": {
     "end_time": "2020-02-18T23:37:52.268760Z",
     "start_time": "2020-02-18T23:37:43.403393Z"
    }
   },
   "outputs": [
    {
     "name": "stdout",
     "output_type": "stream",
     "text": [
      "3\n",
      "29\n",
      "38\n",
      "12\n",
      "57\n",
      "74\n",
      "40\n",
      "85\n",
      "61\n",
      "85\n",
      "8\n"
     ]
    }
   ],
   "source": [
    "l = []\n",
    "\n",
    "for i in range(9):\n",
    "    num = int(input(\"\"))\n",
    "    l.append(num)\n",
    "    \n",
    "M = max(l)\n",
    "P = l.index(max(l))+1\n",
    "print(M)\n",
    "print(P)"
   ]
  },
  {
   "cell_type": "markdown",
   "metadata": {},
   "source": [
    "<H1>3. 세 개의 자연수 A, B, C가 주어질 때 A×B×C를 계산한 결과에 0부터 9까지 각각의 숫자가 몇 번씩 쓰였는지를</H1>\n",
    "\n",
    "<H1>구하는 프로그램을 작성하시오.</H1>\n",
    "\n",
    "<H1>예를 들어 A = 150, B = 266, C = 427 이라면 </H1>\n",
    "\n",
    "<H1>A × B × C = 150 × 266 × 427 = 17037300 이 되고, </H1>\n",
    "\n",
    "<H1>계산한 결과 17037300 에는 0이 3번, 1이 1번, 3이 2번, 7이 2번 쓰였다.</H1>\n",
    "\n",
    "<H1>첫째 줄에 A, 둘째 줄에 B, 셋째 줄에 C가 주어진다. A, B, C는 모두 100보다 같거나 크고, 1,000보다 작은 자연수이다.첫째 줄에 A, 둘째 줄에 B, 셋째 줄에 C가 주어진다. A, B, C는 모두 100보다 같거나 크고, 1,000보다 작은 자연수이다.</H1>"
   ]
  },
  {
   "cell_type": "code",
   "execution_count": 5,
   "metadata": {
    "ExecuteTime": {
     "end_time": "2020-02-18T23:56:53.396332Z",
     "start_time": "2020-02-18T23:56:42.977560Z"
    }
   },
   "outputs": [
    {
     "name": "stdout",
     "output_type": "stream",
     "text": [
      "150\n",
      "266\n",
      "427\n",
      "3\n",
      "1\n",
      "0\n",
      "2\n",
      "0\n",
      "0\n",
      "0\n",
      "2\n",
      "0\n",
      "0\n"
     ]
    }
   ],
   "source": [
    "count = []\n",
    "\n",
    "A = int(input(\"\"))\n",
    "B = int(input(\"\"))\n",
    "C = int(input(\"\"))\n",
    "\n",
    "S = A*B*C\n",
    "\n",
    "L = list(str(S))\n",
    "\n",
    "for i in range(10):\n",
    "    cnt = L.count(str(i))\n",
    "    count.append(cnt)\n",
    "\n",
    "for i in range(10):\n",
    "    print(count[i])"
   ]
  },
  {
   "cell_type": "markdown",
   "metadata": {},
   "source": [
    "<H1>4. 두 자연수 A와 B가 있을 때, A%B는 A를 B로 나눈 나머지 이다. 예를 들어, 7, 14, 27, 38을 3으로 나눈 나머지는 1, 2, 0, 2이다.</H1> \n",
    "\n",
    "<H1>수 10개를 입력받은 뒤, 이를 42로 나눈 나머지를 구한다. 그 다음 서로 다른 값이 몇 개 있는지 출력하는 프로그램을 작성하시오.</H1>\n",
    "\n",
    "<H1>첫째 줄부터 열번째 줄 까지 숫자가 한 줄에 하나씩 주어진다. 이 숫자는 1,000보다 작거나 같고, 음이 아닌 정수이다.</H1>"
   ]
  },
  {
   "cell_type": "code",
   "execution_count": 5,
   "metadata": {
    "ExecuteTime": {
     "end_time": "2020-02-19T03:54:57.340921Z",
     "start_time": "2020-02-19T03:54:47.707721Z"
    }
   },
   "outputs": [
    {
     "name": "stdout",
     "output_type": "stream",
     "text": [
      "39\n",
      "40\n",
      "41\n",
      "42\n",
      "43\n",
      "44\n",
      "82\n",
      "83\n",
      "84\n",
      "85\n",
      "[39, 40, 41, 0, 1, 2]\n",
      "6\n"
     ]
    }
   ],
   "source": [
    "L = []\n",
    "c = 0\n",
    "\n",
    "for i in range(10):\n",
    "    n = int(input())\n",
    "    \n",
    "    if (L.count(n%42) >= 1):\n",
    "        L = L\n",
    "    else:\n",
    "        L.append(n%42)\n",
    "        \n",
    "print(len(L))"
   ]
  },
  {
   "cell_type": "markdown",
   "metadata": {},
   "source": [
    "<H1>5. 세준이는 기말고사를 망쳤다. 세준이는 점수를 조작해서 집에 가져가기로 했다. 일단 세준이는 자기 점수 중에 최댓값을 골랐다.</H1>\n",
    "\n",
    "<H1>이 값을 M이라고 한다. 그리고 나서 모든 점수를 점수/M*100으로 고쳤다.</H1>\n",
    "\n",
    "<H1>예를 들어, 세준이의 최고점이 70이고, 수학점수가 50이었으면 수학점수는 50/70*100이 되어 71.43점이 된다.</H1>\n",
    "\n",
    "<H1>세준이의 성적을 위의 방법대로 새로 계산했을 때, 새로운 평균을 구하는 프로그램을 작성하시오.</H1>\n",
    "\n",
    "<H1>첫째 줄에 시험 본 과목의 개수 N이 주어진다. 이 값은 1000보다 작거나 같다. 둘째 줄에 세준이의 현재 성적이 주어진다.</H1>\n",
    "<H1>이 값은 100보다 작거나 같은 음이 아닌 정수이고, 적어도 하나의 값은 0보다 크다.</H1>"
   ]
  },
  {
   "cell_type": "code",
   "execution_count": 5,
   "metadata": {
    "ExecuteTime": {
     "end_time": "2020-02-19T07:03:43.058207Z",
     "start_time": "2020-02-19T07:03:34.387182Z"
    }
   },
   "outputs": [
    {
     "name": "stdout",
     "output_type": "stream",
     "text": [
      "4\n",
      "1 100 100 100\n",
      "75.25\n"
     ]
    }
   ],
   "source": [
    "N = int(input())\n",
    "\n",
    "result = []\n",
    "\n",
    "score = list(map(int, input().split()))\n",
    "\n",
    "r = max(score)\n",
    "\n",
    "for i in range(len(score)):\n",
    "    R = (score[i]/r)*100\n",
    "    result.append(R)\n",
    "    \n",
    "print(sum(result)/len(score))"
   ]
  },
  {
   "cell_type": "markdown",
   "metadata": {},
   "source": [
    "<H1>6. \"OOXXOXXOOO\"와 같은 OX퀴즈의 결과가 있다. O는 문제를 맞은 것이고, X는 문제를 틀린 것이다.</H1>\n",
    "<H1>문제를 맞은 경우 그 문제의 점수는 그 문제까지 연속된 O의 개수가 된다. 예를 들어, 10번 문제의 점수는 3이 된다.</H1>\n",
    "\n",
    "<H1>\"OOXXOXXOOO\"의 점수는 1+2+0+0+1+0+0+1+2+3 = 10점이다.</H1>\n",
    "\n",
    "<H1>OX퀴즈의 결과가 주어졌을 때, 점수를 구하는 프로그램을 작성하시오.</H1>\n",
    "\n",
    "<H1>첫째 줄에 테스트 케이스의 개수가 주어진다. 각 테스트 케이스는 한 줄로 이루어져 있고, 길이가 0보다 크고 80보다 작은 문자열이\n",
    "    주어진다. 문자열은 O와 X만으로 이루어져 있다.</H1>"
   ]
  },
  {
   "cell_type": "code",
   "execution_count": 1,
   "metadata": {
    "ExecuteTime": {
     "end_time": "2020-02-19T07:31:33.240136Z",
     "start_time": "2020-02-19T07:30:55.287375Z"
    }
   },
   "outputs": [
    {
     "name": "stdout",
     "output_type": "stream",
     "text": [
      "5\n",
      "OOXXOXXOOO\n",
      "10\n",
      "OOXXOOXXOO\n",
      "9\n",
      "OXOXOXOXOXOXOX\n",
      "7\n",
      "OOOOOOOOOO\n",
      "55\n",
      "OOOOXOOOOXOOOOX\n",
      "30\n"
     ]
    }
   ],
   "source": [
    "N = int(input())\n",
    "\n",
    "for i in range(N):\n",
    "    s = 0\n",
    "    score = 0\n",
    "    case = str(input())\n",
    "    for j in range(len(case)):\n",
    "        if (case[j]==\"O\"):\n",
    "            s = s+1\n",
    "            score = score + s\n",
    "        else:\n",
    "            s = 0\n",
    "    print(score)"
   ]
  },
  {
   "cell_type": "markdown",
   "metadata": {},
   "source": [
    "<H1>7. 대학생 새내기들의 90%는 자신이 반에서 평균은 넘는다고 생각한다. 당신은 그들에게 슬픈 진실을 알려줘야 한다.</H1>\n",
    "\n",
    "<H1>첫째 줄에는 테스트 케이스의 개수 C가 주어진다.</H1>\n",
    "\n",
    "<H1>둘째 줄부터 각 테스트 케이스마다 학생의 수 N(1 ≤ N ≤ 1000, N은 정수)이 첫 수로 주어지고, 이어서 N명의 점수가 주어진다.</H1>\n",
    "\n",
    "<H1>점수는 0보다 크거나 같고, 100보다 작거나 같은 정수이다.</H1>"
   ]
  },
  {
   "cell_type": "code",
   "execution_count": 4,
   "metadata": {
    "ExecuteTime": {
     "end_time": "2020-02-19T23:44:24.494772Z",
     "start_time": "2020-02-19T23:43:56.773388Z"
    }
   },
   "outputs": [
    {
     "name": "stdout",
     "output_type": "stream",
     "text": [
      "5\n",
      "5 50 50 70 80 100\n",
      "7 100 95 90 80 70 60 50\n",
      "3 70 90 80\n",
      "3 70 90 81\n",
      "9 100 99 98 97 96 95 94 93 91\n",
      "40.000%\n",
      "57.143%\n",
      "33.333%\n",
      "66.667%\n",
      "55.556%\n"
     ]
    }
   ],
   "source": [
    "num = int(input())\n",
    "avg = []\n",
    "\n",
    "for i in range(num):\n",
    "    score = list(map(int,input().split()))\n",
    "    student = score[0]\n",
    "    del score[0]\n",
    "    s = 0\n",
    "    cnt = 0\n",
    "        \n",
    "    for j in score:\n",
    "            s = s + j\n",
    "    avg.append(s/student)\n",
    "\n",
    "    for j in score:\n",
    "            if j > avg[i]:\n",
    "                    cnt = cnt+1\n",
    "    avg[i] = cnt/student*100\n",
    "        \n",
    "for i in range(len(avg)):\n",
    "        print(\"%.3f%%\" %round(avg[i], 3))"
   ]
  }
 ],
 "metadata": {
  "kernelspec": {
   "display_name": "Python 3",
   "language": "python",
   "name": "python3"
  },
  "language_info": {
   "codemirror_mode": {
    "name": "ipython",
    "version": 3
   },
   "file_extension": ".py",
   "mimetype": "text/x-python",
   "name": "python",
   "nbconvert_exporter": "python",
   "pygments_lexer": "ipython3",
   "version": "3.6.10"
  }
 },
 "nbformat": 4,
 "nbformat_minor": 4
}
